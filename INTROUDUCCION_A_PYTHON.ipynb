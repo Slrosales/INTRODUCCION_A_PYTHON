{
  "nbformat": 4,
  "nbformat_minor": 0,
  "metadata": {
    "colab": {
      "provenance": [],
      "authorship_tag": "ABX9TyMJi3NYdFimmljycgaQkxuJ",
      "include_colab_link": true
    },
    "kernelspec": {
      "name": "python3",
      "display_name": "Python 3"
    },
    "language_info": {
      "name": "python"
    }
  },
  "cells": [
    {
      "cell_type": "markdown",
      "metadata": {
        "id": "view-in-github",
        "colab_type": "text"
      },
      "source": [
        "<a href=\"https://colab.research.google.com/github/Slrosales/INTRODUCCION_A_PYTHON/blob/main/INTROUDUCCION_A_PYTHON.ipynb\" target=\"_parent\"><img src=\"https://colab.research.google.com/assets/colab-badge.svg\" alt=\"Open In Colab\"/></a>"
      ]
    },
    {
      "cell_type": "markdown",
      "source": [
        "# Python Nativo\n",
        "\n"
      ],
      "metadata": {
        "id": "FAmgblGFfTxX"
      }
    },
    {
      "cell_type": "markdown",
      "source": [
        "## Tipos de comentarios\n",
        "\n",
        "Los comentarios se utilizan para agregar notas explicativas al código, estos son ignorados por el interprete\n",
        "\n",
        "\n"
      ],
      "metadata": {
        "id": "FyQItR1Le7Wx"
      }
    },
    {
      "cell_type": "code",
      "execution_count": null,
      "metadata": {
        "id": "ixIYVhnlenZm"
      },
      "outputs": [],
      "source": [
        "# Comentario en una linea\n",
        "\n",
        "\"\"\"\n",
        "Comentario\n",
        "en\n",
        "bloque\n",
        "\"\"\""
      ]
    },
    {
      "cell_type": "markdown",
      "source": [
        "## Tipos de datos en Python\n",
        "Declaramos variables usando el `=`. A izquierda siempre debe estar el nombre de la variable"
      ],
      "metadata": {
        "id": "scrT7TQxizTJ"
      }
    },
    {
      "cell_type": "code",
      "source": [
        "numero_entero = 5   # int\n",
        "numero_decimal = 3.14   # float\n",
        "cadena = \"Hola mundo\"   # str\n",
        "\n",
        "# bool\n",
        "verdadero = True\n",
        "falso = False\n",
        "\n",
        "# list\n",
        "lista_numeros = [1, 2, 2, 3, 4, 5]\n",
        "lista_nombres = [\"Luna\", \"Giuseppe\", \"Laura\", \"Rubens\"]\n",
        "lista_multi = [1, \"hola\", 2.5]\n",
        "\n",
        "# set (no permite datos duplicados)\n",
        "conjunto_numeros = {1, 2, 3}\n",
        "\n",
        "# tupla (no es mutable)\n",
        "tupla_colores = {\"rojo\", \"verde\", \"azul\"}\n",
        "\n",
        "# Diccionario (clave-valor)\n",
        "diccionario_edades = {\"Luna\": 25, \"Giuseppe\": 5, \"Laura\": 20}"
      ],
      "metadata": {
        "id": "FxXO0CRojElw",
        "colab": {
          "base_uri": "https://localhost:8080/"
        },
        "outputId": "76715640-9a3b-424b-fc10-d60d69216c01"
      },
      "execution_count": null,
      "outputs": [
        {
          "output_type": "stream",
          "name": "stdout",
          "text": [
            "{1, 2, 3}\n"
          ]
        }
      ]
    },
    {
      "cell_type": "markdown",
      "source": [
        "## Función `print()`\n",
        "\n",
        "La función print escribe en pantalla las variables que recibe.\n",
        "Los caracteres entre comillas dobles o simples se toman como literales (strings) y puede recibir múltiples variables, siempre separadas por comas"
      ],
      "metadata": {
        "id": "I-3Qkm4mnLf5"
      }
    },
    {
      "cell_type": "code",
      "source": [
        "print(numero_decimal)\n",
        "print(verdadero, falso)\n",
        "print(\"Los elementos en mi lista de números son: \", lista_numeros)\n"
      ],
      "metadata": {
        "colab": {
          "base_uri": "https://localhost:8080/"
        },
        "id": "1HjILgUPnTWq",
        "outputId": "0c5dbc2b-d198-401b-fae5-d2bd7f0592f1"
      },
      "execution_count": null,
      "outputs": [
        {
          "output_type": "stream",
          "name": "stdout",
          "text": [
            "3.14\n",
            "True False\n",
            "Los elementos en mi lista de números son:  [1, 2, 3, 4, 5]\n"
          ]
        }
      ]
    },
    {
      "cell_type": "markdown",
      "source": [
        "Otra forma para imprimir datos por pantalla es usar **f-string**, lo cual es una cadena de formato, lo que este entre llaves será evaluado y remplazado por su valor correspondiente\n",
        "\n",
        "\n",
        "\n",
        "\n"
      ],
      "metadata": {
        "id": "b7lj53LqoOc7"
      }
    },
    {
      "cell_type": "code",
      "source": [
        "x = 10\n",
        "f\"Ayer programé {x} horas\""
      ],
      "metadata": {
        "colab": {
          "base_uri": "https://localhost:8080/",
          "height": 35
        },
        "id": "zJO-jzxxo9_K",
        "outputId": "8c68e84f-70e5-4568-e7a9-2b76e53da9ea"
      },
      "execution_count": null,
      "outputs": [
        {
          "output_type": "execute_result",
          "data": {
            "text/plain": [
              "'Ayer programé 10 horas'"
            ],
            "application/vnd.google.colaboratory.intrinsic+json": {
              "type": "string"
            }
          },
          "metadata": {},
          "execution_count": 16
        }
      ]
    },
    {
      "cell_type": "markdown",
      "source": [
        "## Aritmética básica"
      ],
      "metadata": {
        "id": "th-RzkZRheLs"
      }
    },
    {
      "cell_type": "code",
      "source": [
        "a, b = 2, 5\n",
        "\n",
        "print(\"Sumar a+b:\", a+b)\n",
        "print(\"Restar a-b:\", a-b)\n",
        "print(\"Multiplicar a*b:\", a*b)\n",
        "print(\"Dividir b/a:\", b/a)\n",
        "print(\"División entera b//a:\", b//a)\n",
        "print(\"Resto de división (modulo) b%a:\", b%a)\n",
        "print(\"Potenciación b**a (b^a): \", b**a)"
      ],
      "metadata": {
        "colab": {
          "base_uri": "https://localhost:8080/"
        },
        "id": "zuXoH6Uphiu7",
        "outputId": "8424bf68-fecb-4153-d067-8e03c82687ba"
      },
      "execution_count": 2,
      "outputs": [
        {
          "output_type": "stream",
          "name": "stdout",
          "text": [
            "Sumar a+b: 7\n",
            "Restar a-b: -3\n",
            "Multiplicar a*b: 10\n",
            "Dividir b/a: 2.5\n",
            "División entera b//a: 2\n",
            "Resto de división (modulo) b%a: 1\n",
            "Potenciación b**a (b^a):  25\n"
          ]
        }
      ]
    },
    {
      "cell_type": "markdown",
      "source": [
        "## Operadores de comparación\n",
        "\n",
        "Op. | Descripción\n",
        "--- | ---\n",
        "`==` | `True` si son iguales\n",
        "`!=` | `True` si son distintos\n",
        "`>` | `True` si la izquierda es mayor a la derecha\n",
        "`<` | `True` si la izquierda es menor a la derecha\n",
        "`>=` | `True` si la izquierda es mayor o igual a la derecha\n",
        "`<=` | `True` si la izquierda es menor o igual a la derecha\n",
        "\n",
        "\n",
        "`True` y `False` son dato tipo boleano.\n",
        "`False` también puede definirse cómo `not True` (el `not` es el operador _negación_)."
      ],
      "metadata": {
        "id": "k4snHhTKh2rI"
      }
    },
    {
      "cell_type": "code",
      "source": [
        "a = 10\n",
        "b = 15\n",
        "print(\"Comparo a>b:\", a>b)\n",
        "print(\"Comparo a==b:\", a==b)\n",
        "print(\"Comparo a<=b:\", a<=b)"
      ],
      "metadata": {
        "colab": {
          "base_uri": "https://localhost:8080/"
        },
        "id": "nQDirZxdmmJx",
        "outputId": "3bb4c14b-57ad-48b2-a56e-5d70a0859600"
      },
      "execution_count": null,
      "outputs": [
        {
          "output_type": "stream",
          "name": "stdout",
          "text": [
            "Comparo a>b: False\n",
            "Comparo a==b: False\n",
            "Comparo a<=b: True\n"
          ]
        }
      ]
    }
  ]
}