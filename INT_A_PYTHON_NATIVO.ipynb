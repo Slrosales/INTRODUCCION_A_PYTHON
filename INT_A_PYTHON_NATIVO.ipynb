{
  "nbformat": 4,
  "nbformat_minor": 0,
  "metadata": {
    "colab": {
      "provenance": [],
      "collapsed_sections": [
        "FAmgblGFfTxX",
        "FyQItR1Le7Wx",
        "scrT7TQxizTJ",
        "I-3Qkm4mnLf5",
        "OvfK71U05YkB",
        "th-RzkZRheLs",
        "fhSPkkM8AMyC",
        "k4snHhTKh2rI",
        "B5LoDzhh7JGx",
        "nDrdfzdZ8wne",
        "EPo6kFU8z2Xo",
        "CbjKQhx8_rxi",
        "-HiYHBFOAI1B",
        "BAHsIj0MBvpg",
        "cpQpXJVDGa8q",
        "_y1-km7WAo03",
        "nhk4CM8KBLxC",
        "CEVGT6iklJ3W",
        "vqprqetAm4Qc",
        "MWtY1pg_q5Zx",
        "W68yBxpcthLF"
      ],
      "authorship_tag": "ABX9TyNxhe2wAO5ho9DEJFN2yJ8R",
      "include_colab_link": true
    },
    "kernelspec": {
      "name": "python3",
      "display_name": "Python 3"
    },
    "language_info": {
      "name": "python"
    }
  },
  "cells": [
    {
      "cell_type": "markdown",
      "metadata": {
        "id": "view-in-github",
        "colab_type": "text"
      },
      "source": [
        "<a href=\"https://colab.research.google.com/github/Slrosales/INT_A_LA_ING_DE_SISTEMAS/blob/main/INT_A_PYTHON_NATIVO.ipynb\" target=\"_parent\"><img src=\"https://colab.research.google.com/assets/colab-badge.svg\" alt=\"Open In Colab\"/></a>"
      ]
    },
    {
      "cell_type": "markdown",
      "source": [
        "# Python Nativo\n",
        "\n"
      ],
      "metadata": {
        "id": "FAmgblGFfTxX"
      }
    },
    {
      "cell_type": "markdown",
      "source": [
        "## Tipos de comentarios"
      ],
      "metadata": {
        "id": "FyQItR1Le7Wx"
      }
    },
    {
      "cell_type": "markdown",
      "source": [
        "Los comentarios se utilizan para agregar notas explicativas al código, estos son ignorados por el interprete"
      ],
      "metadata": {
        "id": "C17lKGClFp9U"
      }
    },
    {
      "cell_type": "code",
      "execution_count": null,
      "metadata": {
        "id": "ixIYVhnlenZm"
      },
      "outputs": [],
      "source": [
        "# Comentario en una linea\n",
        "\n",
        "\"\"\"\n",
        "Comentario\n",
        "en\n",
        "bloque\n",
        "\"\"\""
      ]
    },
    {
      "cell_type": "markdown",
      "source": [
        "## Tipos de datos en Python"
      ],
      "metadata": {
        "id": "scrT7TQxizTJ"
      }
    },
    {
      "cell_type": "markdown",
      "source": [
        "Declaramos variables usando el `=`. A la izquierda siempre debe estar el nombre de la variable"
      ],
      "metadata": {
        "id": "t81moyAYFuW7"
      }
    },
    {
      "cell_type": "code",
      "source": [
        "numero_entero = 5   # int\n",
        "numero_decimal = 3.14   # float\n",
        "cadena = \"Hola mundo\"   # str\n",
        "\n",
        "# bool\n",
        "verdadero = True\n",
        "falso = False\n",
        "\n",
        "# list\n",
        "lista_numeros = [1, 2, 2, 3, 4, 5]\n",
        "lista_nombres = [\"Luna\", \"Giuseppe\", \"Laura\", \"Rubens\"]\n",
        "lista_multi = [1, \"hola\", 2.5]\n",
        "\n",
        "# set (no permite datos duplicados)\n",
        "conjunto_numeros = {1, 2, 3}\n",
        "\n",
        "# tupla (no es mutable)\n",
        "tupla_colores = {\"rojo\", \"verde\", \"azul\"}\n",
        "\n",
        "# Diccionario (clave-valor)\n",
        "diccionario_edades = {\"Luna\": 25, \"Giuseppe\": 5, \"Laura\": 20}"
      ],
      "metadata": {
        "id": "FxXO0CRojElw",
        "colab": {
          "base_uri": "https://localhost:8080/"
        },
        "outputId": "76715640-9a3b-424b-fc10-d60d69216c01"
      },
      "execution_count": null,
      "outputs": [
        {
          "output_type": "stream",
          "name": "stdout",
          "text": [
            "{1, 2, 3}\n"
          ]
        }
      ]
    },
    {
      "cell_type": "markdown",
      "source": [
        "## Función `print()`\n",
        "\n"
      ],
      "metadata": {
        "id": "I-3Qkm4mnLf5"
      }
    },
    {
      "cell_type": "markdown",
      "source": [
        "Es una función que escribe en pantalla las variables que recibe.\n",
        "Los caracteres entre comillas dobles o simples se toman como literales (strings) y puede recibir múltiples variables, siempre separadas por comas"
      ],
      "metadata": {
        "id": "rcZtXweWF1RT"
      }
    },
    {
      "cell_type": "code",
      "source": [
        "print(numero_decimal)\n",
        "print(verdadero, falso)\n",
        "print(\"Los elementos en mi lista de números son: \", lista_numeros)\n"
      ],
      "metadata": {
        "colab": {
          "base_uri": "https://localhost:8080/"
        },
        "id": "1HjILgUPnTWq",
        "outputId": "0c5dbc2b-d198-401b-fae5-d2bd7f0592f1"
      },
      "execution_count": null,
      "outputs": [
        {
          "output_type": "stream",
          "name": "stdout",
          "text": [
            "3.14\n",
            "True False\n",
            "Los elementos en mi lista de números son:  [1, 2, 3, 4, 5]\n"
          ]
        }
      ]
    },
    {
      "cell_type": "markdown",
      "source": [
        "Otra forma para imprimir datos por pantalla es usar **f-string**, lo cual es una cadena de formato, lo que este entre llaves será evaluado y remplazado por su valor correspondiente\n",
        "\n",
        "\n",
        "\n",
        "\n"
      ],
      "metadata": {
        "id": "b7lj53LqoOc7"
      }
    },
    {
      "cell_type": "code",
      "source": [
        "x = 10\n",
        "f\"Ayer programé {x} horas\""
      ],
      "metadata": {
        "colab": {
          "base_uri": "https://localhost:8080/",
          "height": 35
        },
        "id": "zJO-jzxxo9_K",
        "outputId": "8c68e84f-70e5-4568-e7a9-2b76e53da9ea"
      },
      "execution_count": null,
      "outputs": [
        {
          "output_type": "execute_result",
          "data": {
            "text/plain": [
              "'Ayer programé 10 horas'"
            ],
            "application/vnd.google.colaboratory.intrinsic+json": {
              "type": "string"
            }
          },
          "metadata": {},
          "execution_count": 16
        }
      ]
    },
    {
      "cell_type": "markdown",
      "source": [
        "## Función `input()`\n",
        "\n",
        "\n"
      ],
      "metadata": {
        "id": "OvfK71U05YkB"
      }
    },
    {
      "cell_type": "markdown",
      "source": [
        "Es una función que permite interactuar con el usuario y solicitar datos.\n",
        "Cuando se llama a la función `input()`, el programa se detiene y espera a que el usuario ingrese lo solicitado. Al presionar la tecla \"Enter\", el texto ingresado por el usuario se captura como un string y puede ser asignado a una variable para su posterior procesamiento."
      ],
      "metadata": {
        "id": "rVe2DqCUF6TD"
      }
    },
    {
      "cell_type": "code",
      "source": [
        "x = input()\n",
        "print(x)\n",
        "print(type(x)) # type() dice el tipo de variable"
      ],
      "metadata": {
        "colab": {
          "base_uri": "https://localhost:8080/"
        },
        "id": "-LghVcOx6w3P",
        "outputId": "d748a94e-9073-4d7d-fbb9-22db8b386a0f"
      },
      "execution_count": null,
      "outputs": [
        {
          "output_type": "stream",
          "name": "stdout",
          "text": [
            "Hola\n",
            "Hola\n",
            "<class 'str'>\n"
          ]
        }
      ]
    },
    {
      "cell_type": "code",
      "source": [
        "y = int(input(\"Ingresa un número entero: \")) # int(input()) convierte el str ingresado a int\n",
        "print(y)\n",
        "print(type(y))"
      ],
      "metadata": {
        "colab": {
          "base_uri": "https://localhost:8080/"
        },
        "id": "oPZ-kRf57uWm",
        "outputId": "b768783f-103b-4c1c-935b-76dab71a8ec4"
      },
      "execution_count": null,
      "outputs": [
        {
          "output_type": "stream",
          "name": "stdout",
          "text": [
            "Ingresa un número entero: 25\n",
            "25\n",
            "<class 'int'>\n"
          ]
        }
      ]
    },
    {
      "cell_type": "markdown",
      "source": [
        "## Aritmética básica"
      ],
      "metadata": {
        "id": "th-RzkZRheLs"
      }
    },
    {
      "cell_type": "code",
      "source": [
        "a, b = 2, 5\n",
        "\n",
        "print(\"Sumar a+b:\", a+b)\n",
        "print(\"Restar a-b:\", a-b)\n",
        "print(\"Multiplicar a*b:\", a*b)\n",
        "print(\"Dividir b/a:\", b/a)\n",
        "print(\"División entera b//a:\", b//a)\n",
        "print(\"Resto de división (modulo) b%a:\", b%a)\n",
        "print(\"Potenciación b**a (b^a): \", b**a)"
      ],
      "metadata": {
        "colab": {
          "base_uri": "https://localhost:8080/"
        },
        "id": "zuXoH6Uphiu7",
        "outputId": "8424bf68-fecb-4153-d067-8e03c82687ba"
      },
      "execution_count": null,
      "outputs": [
        {
          "output_type": "stream",
          "name": "stdout",
          "text": [
            "Sumar a+b: 7\n",
            "Restar a-b: -3\n",
            "Multiplicar a*b: 10\n",
            "Dividir b/a: 2.5\n",
            "División entera b//a: 2\n",
            "Resto de división (modulo) b%a: 1\n",
            "Potenciación b**a (b^a):  25\n"
          ]
        }
      ]
    },
    {
      "cell_type": "markdown",
      "source": [
        "## Operadores"
      ],
      "metadata": {
        "id": "fhSPkkM8AMyC"
      }
    },
    {
      "cell_type": "markdown",
      "source": [
        "### Operadores de comparación\n"
      ],
      "metadata": {
        "id": "k4snHhTKh2rI"
      }
    },
    {
      "cell_type": "markdown",
      "source": [
        "Op. | Descripción\n",
        "--- | ---\n",
        "`==` | `True` si son iguales\n",
        "`!=` | `True` si son distintos\n",
        "`>` | `True` si la izquierda es mayor a la derecha\n",
        "`<` | `True` si la izquierda es menor a la derecha\n",
        "`>=` | `True` si la izquierda es mayor o igual a la derecha\n",
        "`<=` | `True` si la izquierda es menor o igual a la derecha\n",
        "\n",
        "\n",
        "`True` y `False` son dato tipo boleano.\n",
        "`False` también puede definirse cómo `not True` (el `not` es el operador _negación_)."
      ],
      "metadata": {
        "id": "roarKc_7GAnL"
      }
    },
    {
      "cell_type": "code",
      "source": [
        "a = 10\n",
        "b = 15\n",
        "print(\"Comparo a>b:\", a>b)\n",
        "print(\"Comparo a==b:\", a==b)\n",
        "print(\"Comparo a<=b:\", a<=b)"
      ],
      "metadata": {
        "colab": {
          "base_uri": "https://localhost:8080/"
        },
        "id": "nQDirZxdmmJx",
        "outputId": "3bb4c14b-57ad-48b2-a56e-5d70a0859600"
      },
      "execution_count": null,
      "outputs": [
        {
          "output_type": "stream",
          "name": "stdout",
          "text": [
            "Comparo a>b: False\n",
            "Comparo a==b: False\n",
            "Comparo a<=b: True\n"
          ]
        }
      ]
    },
    {
      "cell_type": "markdown",
      "source": [
        "### Operadores bitwise\n"
      ],
      "metadata": {
        "id": "B5LoDzhh7JGx"
      }
    },
    {
      "cell_type": "markdown",
      "source": [
        "Permiten realizar operaciones en los bits individuales de los números enteros. Estos operadores actúan directamente en la representación binaria de los números y se utilizan para realizar manipulaciones precisas de bits en un nivel más bajo.\n",
        "\n",
        "| Operador           | |Descripción                               |\n",
        "|--------------------|-|------------------------------------------|\n",
        "| `&`                | AND| Pone cada bit a 1 si ambos bits son 1                    |\n",
        "| `\\|`               | OR |Pone cada bit a 1 si uno de los dos bits es 1                    |\n",
        "| `^`                | XOR |Pone cada bit a 1 si sólo uno de los dos bits es 1                    |\n",
        "| `~`                | NOT |inversión de bits                     |\n",
        "| `<<`               | |Desplazamiento a la izquierda             |\n",
        "| `>>`               | |Desplazamiento a la derecha               |\n",
        "\n"
      ],
      "metadata": {
        "id": "C5GL6kHEGG0r"
      }
    },
    {
      "cell_type": "code",
      "source": [
        "a = 5  # Representación binaria: 0101\n",
        "b = 3  # Representación binaria: 0011\n",
        "\n",
        "c = a & b  # 0101 & 0011 = 0001 (1 en decimal)\n",
        "print(\"AND\", c)\n",
        "\n",
        "c = a | b  # 0101 | 0011 = 0111 (7 en decimal)\n",
        "print(\"OR\", c)\n",
        "\n",
        "c = a ^ b  # 0101 ^ 0011 = 0110 (6 en decimal)\n",
        "print(\"XOR\", c)\n",
        "\n",
        "c = ~a  # ~0101 = 1010 (-6 en decimal)\n",
        "print(\"NOT\", c)\n",
        "\n",
        "c = a << 2  # Desplaza 2 bits a la izquierda: 010100 (20 en decimal)\n",
        "print(\"<<\", c)\n",
        "\n",
        "c = a >> 2  # Desplaza 2 bits a la derecha: 000101 (5 en decimal)\n",
        "print(\">>\", c)"
      ],
      "metadata": {
        "colab": {
          "base_uri": "https://localhost:8080/"
        },
        "id": "hXge1Iss8-Xe",
        "outputId": "ee965625-20a8-4f43-e26b-df83f2bae94b"
      },
      "execution_count": null,
      "outputs": [
        {
          "output_type": "stream",
          "name": "stdout",
          "text": [
            "AND 1\n",
            "OR 7\n",
            "XOR 6\n",
            "NOT -6\n",
            "<< 20\n",
            ">> 1\n"
          ]
        }
      ]
    },
    {
      "cell_type": "markdown",
      "source": [
        "### Operadores Lógicos\n"
      ],
      "metadata": {
        "id": "nDrdfzdZ8wne"
      }
    },
    {
      "cell_type": "markdown",
      "source": [
        "Se utilizan para realizar operaciones de lógica booleana en valores booleanos o expresiones que se evalúan como verdaderas (`True`) o falsas (`False`). Estos operadores permiten combinar, comparar y evaluar condiciones lógicas en un programa.\n",
        "\n",
        "| Operador | Descripción                                   |\n",
        "|----------|-----------------------------------------------|\n",
        "| `and`    | Retorna `True` si ambas condiciones son `True`.   |\n",
        "| `or`     | Retorna `True` si al menos una condición es `True`. |\n",
        "| `not`    | Invierte el valor de una condición.              |\n",
        "\n",
        "\n",
        "Se utilizan comúnmente para controlar el flujo del programa mediante estructuras condicionales (if, elif, else) y para combinar múltiples condiciones para tomar decisiones basadas en la lógica booleana."
      ],
      "metadata": {
        "id": "wO_syiRJGKG0"
      }
    },
    {
      "cell_type": "code",
      "source": [
        "a = True\n",
        "b = False\n",
        "\n",
        "print(\"a and b: \", a and b)\n",
        "print(\"a or b:\", a or b )\n",
        "print(\"not a: \", not a )"
      ],
      "metadata": {
        "colab": {
          "base_uri": "https://localhost:8080/"
        },
        "id": "R39-KanpCyJg",
        "outputId": "aa4492e6-9eb9-4395-ced0-f20063fe1121"
      },
      "execution_count": null,
      "outputs": [
        {
          "output_type": "stream",
          "name": "stdout",
          "text": [
            "a and b:  False\n",
            "a or b: True\n",
            "not a:  False\n"
          ]
        }
      ]
    },
    {
      "cell_type": "markdown",
      "source": [
        "## Condicionales\n"
      ],
      "metadata": {
        "id": "EPo6kFU8z2Xo"
      }
    },
    {
      "cell_type": "markdown",
      "source": [
        "Un condicional es una estructura de programación que permite tomar decisiones basadas en una o varias condiciones como resultado de una expresión booleana (verdadera o falsa)\n",
        "\n",
        "\n",
        "\n",
        "`if` Se usa para evaluar una condición y ejecutar un bloque de código si esa condición es verdadera. Es la parte principal de una estructura condicional.\n",
        "\n",
        "`else` Se usa junto con `if` para proporcionar un bloque de código que se ejecutará si la condición del `if` es falsa\n",
        "\n",
        "`elif` (else-if) Se usa para evaluar múltiples condiciones en secuencia. Si la condición del `if` no es verdadera, se verifica la siguiente condición lo es\n",
        "\n"
      ],
      "metadata": {
        "id": "7uttDmD80OqP"
      }
    },
    {
      "cell_type": "code",
      "source": [
        "# Comparación de dos números\n",
        "a, b = 2, 6.5\n",
        "\n",
        "if a > b:\n",
        "  print(\"a es mayor a b\")\n",
        "\n",
        "if a < b:\n",
        "  print(\"a es menor a b\")\n",
        "\n",
        "if a == b:\n",
        "  print(\"a y b son iguales\")"
      ],
      "metadata": {
        "colab": {
          "base_uri": "https://localhost:8080/"
        },
        "id": "qS_a5Kf14DDr",
        "outputId": "873c5ea3-05c4-4aaa-f2bf-beedaa251fd8"
      },
      "execution_count": null,
      "outputs": [
        {
          "output_type": "stream",
          "name": "stdout",
          "text": [
            "a es menor a b\n"
          ]
        }
      ]
    },
    {
      "cell_type": "code",
      "source": [
        "# Estructura simplificada\n",
        "\n",
        "if a > b:\n",
        "  print(\"a es mayor b\")\n",
        "elif a < b:\n",
        "  print(\"a es menor b\")\n",
        "else:\n",
        "  print(\"a y b son iguales\")"
      ],
      "metadata": {
        "colab": {
          "base_uri": "https://localhost:8080/"
        },
        "id": "XNQx4YmI4hvS",
        "outputId": "a75b9bfa-f1c8-450b-b506-38413ea86c38"
      },
      "execution_count": null,
      "outputs": [
        {
          "output_type": "stream",
          "name": "stdout",
          "text": [
            "a es menor b\n"
          ]
        }
      ]
    },
    {
      "cell_type": "code",
      "source": [
        "colores = [\"rojo\", \"verde\", \"azul\"]\n",
        "\n",
        "print(\"¿Quieres imnprimir la lista de colores?\")\n",
        "# Menú de opciones\n",
        "print(\"1. Si \\n2. No\") # \\n genera un salto de línea\n",
        "x = int(input())\n",
        "\n",
        "if x == 1:\n",
        "  y = True\n",
        "elif x == 2:\n",
        "  y == False\n",
        "else:\n",
        "  print(\"Valor ingresado inválido\")\n",
        "\n",
        "if y == True:\n",
        "  print(colores)"
      ],
      "metadata": {
        "colab": {
          "base_uri": "https://localhost:8080/"
        },
        "id": "g0M6LwkI8mTO",
        "outputId": "2e1cc81f-31c9-4568-ffda-cab813e9c66b"
      },
      "execution_count": null,
      "outputs": [
        {
          "output_type": "stream",
          "name": "stdout",
          "text": [
            "¿Quieres imnprimir la lista de colores?\n",
            "1. Si \n",
            "2. No\n",
            "1\n",
            "['rojo', 'verde', 'azul']\n"
          ]
        }
      ]
    },
    {
      "cell_type": "code",
      "source": [
        "estudiante = True\n",
        "aprobar = True\n",
        "\n",
        "if estudiante and aprobar:\n",
        "    print(\"El estudiante aprobó\")\n",
        "elif estudiante and not aprobar:\n",
        "    print(\"El estudiante no aprobó\")\n",
        "elif not estudiante and aprobar:\n",
        "    print(\"Aprobó pero no es estudiante.\")\n",
        "else:\n",
        "    print(\"No es estudiante y no aprobó\")\n"
      ],
      "metadata": {
        "colab": {
          "base_uri": "https://localhost:8080/"
        },
        "id": "4RmsMVwQHa76",
        "outputId": "c56e6a9f-064a-4355-8e4d-0ff3bd761473"
      },
      "execution_count": null,
      "outputs": [
        {
          "output_type": "stream",
          "name": "stdout",
          "text": [
            "El estudiante aprobó\n"
          ]
        }
      ]
    },
    {
      "cell_type": "markdown",
      "source": [
        "## Ciclos o Bucles"
      ],
      "metadata": {
        "id": "CbjKQhx8_rxi"
      }
    },
    {
      "cell_type": "markdown",
      "source": [
        "Es una estructura que permite repetir un bloque de código varias veces mientras se cumpla una condición específica."
      ],
      "metadata": {
        "id": "m5qoUXT_GaKz"
      }
    },
    {
      "cell_type": "markdown",
      "source": [
        "### Ciclo `for`\n"
      ],
      "metadata": {
        "id": "-HiYHBFOAI1B"
      }
    },
    {
      "cell_type": "markdown",
      "source": [
        "Se utiliza para iterar sobre una secuencia (como una lista, tupla, cadena de caracteres, etc.) y ejecutar un bloque de código para cada elemento en la secuencia."
      ],
      "metadata": {
        "id": "VYi6CWA7GdCz"
      }
    },
    {
      "cell_type": "code",
      "source": [
        "\"\"\"\n",
        " La función range() genera una secuencia de números enteros\n",
        " desde un valor de inicio (inclusive) hasta un valor de parada (exclusivo),\n",
        " con un paso opcional.\n",
        "\n",
        " range(valor_de_inicio, valor_de_parada, paso)\n",
        "\"\"\"\n",
        "\n",
        "print(\"Cuatro números pares:\")\n",
        "for numero in range(2, 10, 2):\n",
        "    print(numero)\n"
      ],
      "metadata": {
        "colab": {
          "base_uri": "https://localhost:8080/"
        },
        "id": "BsPsQf5PAXcZ",
        "outputId": "49f23c0a-aaa4-4217-d5dd-6f5981458aa6"
      },
      "execution_count": null,
      "outputs": [
        {
          "output_type": "stream",
          "name": "stdout",
          "text": [
            "Cuatro números pares:\n",
            "2\n",
            "4\n",
            "6\n",
            "8\n"
          ]
        }
      ]
    },
    {
      "cell_type": "code",
      "source": [
        "for numero in range(5):\n",
        "    print(numero)"
      ],
      "metadata": {
        "colab": {
          "base_uri": "https://localhost:8080/"
        },
        "id": "0rHnMlyDA0Fo",
        "outputId": "332f67dc-7503-420a-eefa-41700e2fc302"
      },
      "execution_count": null,
      "outputs": [
        {
          "output_type": "stream",
          "name": "stdout",
          "text": [
            "0\n",
            "1\n",
            "2\n",
            "3\n",
            "4\n"
          ]
        }
      ]
    },
    {
      "cell_type": "code",
      "source": [
        "frutas = [\"manzana\", \"banana\", \"naranja\"]\n",
        "for fruta in frutas:  # Ejecuta el ciclo por cuantos elementos haya en \"frutas\"\n",
        "    print(fruta)"
      ],
      "metadata": {
        "colab": {
          "base_uri": "https://localhost:8080/"
        },
        "id": "rVJY7dFIAUCY",
        "outputId": "d20bfc6b-d701-4d57-871a-30415410cd1e"
      },
      "execution_count": null,
      "outputs": [
        {
          "output_type": "stream",
          "name": "stdout",
          "text": [
            "manzana\n",
            "banana\n",
            "naranja\n"
          ]
        }
      ]
    },
    {
      "cell_type": "code",
      "source": [
        "palabra = \"Hola\"\n",
        "for letra in palabra:\n",
        "  print(letra)"
      ],
      "metadata": {
        "colab": {
          "base_uri": "https://localhost:8080/"
        },
        "id": "V_dcij4GDgMu",
        "outputId": "26392138-6aa4-4735-c9bd-8fec88ac7c66"
      },
      "execution_count": null,
      "outputs": [
        {
          "output_type": "stream",
          "name": "stdout",
          "text": [
            "H\n",
            "o\n",
            "l\n",
            "a\n"
          ]
        }
      ]
    },
    {
      "cell_type": "markdown",
      "source": [
        "### Ciclo `while `"
      ],
      "metadata": {
        "id": "BAHsIj0MBvpg"
      }
    },
    {
      "cell_type": "markdown",
      "source": [
        "Se repite mientras se cumpla una condición booleana. El ciclo seguirá ejecutando el bloque de código hasta que la condición sea falsa."
      ],
      "metadata": {
        "id": "U08whDBmGl1z"
      }
    },
    {
      "cell_type": "code",
      "source": [
        "contador = 0\n",
        "while contador < 5: # Ejecuta mientras \"contador\" sea menor a 5\n",
        "    print(contador)\n",
        "    contador += 1   # Aumento del contador\n"
      ],
      "metadata": {
        "colab": {
          "base_uri": "https://localhost:8080/"
        },
        "id": "N4x3qJSIB16X",
        "outputId": "16785628-814c-4137-db61-a113bd091573"
      },
      "execution_count": null,
      "outputs": [
        {
          "output_type": "stream",
          "name": "stdout",
          "text": [
            "0\n",
            "1\n",
            "2\n",
            "3\n",
            "4\n"
          ]
        }
      ]
    },
    {
      "cell_type": "code",
      "source": [
        "continuar = True\n",
        "\n",
        "while continuar:  # o while continuar == True:\n",
        "    respuesta = input(\"¿Quieres continuar? (si/no): \")\n",
        "\n",
        "    if respuesta.lower() == \"no\":    # .lower() es un método para convertir una cadena de caracteres en minúsculas\n",
        "        continuar = False\n",
        "        print(\"Saliendo del ciclo.\")\n",
        "    elif respuesta.lower() == \"si\":\n",
        "        print(\"Continuando...\")\n",
        "    else:\n",
        "        print(\"Respuesta inválida. Por favor, responde 'si' o 'no'.\")\n"
      ],
      "metadata": {
        "colab": {
          "base_uri": "https://localhost:8080/"
        },
        "id": "XrFLC_TgCPnH",
        "outputId": "1eb69a78-900a-4b10-e630-584075ec2386"
      },
      "execution_count": null,
      "outputs": [
        {
          "output_type": "stream",
          "name": "stdout",
          "text": [
            "¿Quieres continuar? (si/no): si\n",
            "Continuando...\n",
            "¿Quieres continuar? (si/no): x\n",
            "Respuesta inválida. Por favor, responde 'si' o 'no'.\n",
            "¿Quieres continuar? (si/no): no\n",
            "Saliendo del ciclo.\n"
          ]
        }
      ]
    },
    {
      "cell_type": "code",
      "source": [
        "contador = 0\n",
        "res = int(input(\"Ingrese un número menor a 4: \"))\n",
        "\n",
        "while contador < 5 and res < 4:\n",
        "    contador += 1\n",
        "    print(contador)\n"
      ],
      "metadata": {
        "colab": {
          "base_uri": "https://localhost:8080/"
        },
        "id": "eYr3dO6jJu3P",
        "outputId": "f5a97f86-e334-491f-ae2e-e2eae1ace9d9"
      },
      "execution_count": null,
      "outputs": [
        {
          "name": "stdout",
          "output_type": "stream",
          "text": [
            "Ingrese un número menor a 4: 5\n"
          ]
        }
      ]
    },
    {
      "cell_type": "markdown",
      "source": [
        "## Listas y sus funciones\n"
      ],
      "metadata": {
        "id": "cpQpXJVDGa8q"
      }
    },
    {
      "cell_type": "markdown",
      "source": [
        "Las listas son estructuras de datos muy versátiles y ampliamente utilizadas para almacenar y manipular datos en un programaUna, más especificamente es una colección ordenada de elementos que pueden ser de diferentes tipos (números, cadenas, otros objetos, etc.)."
      ],
      "metadata": {
        "id": "MamZYaXeGozS"
      }
    },
    {
      "cell_type": "code",
      "source": [
        "lista_numeros = [1, 2, 2, 3, 4, 5]\n",
        "lista_nombres = [\"Luna\", \"Giuseppe\", \"Laura\", \"Rubens\"]\n",
        "lista_multi = [1, \"hola\", 2.5]"
      ],
      "metadata": {
        "id": "UcUIgNa8HLaA"
      },
      "execution_count": null,
      "outputs": []
    },
    {
      "cell_type": "code",
      "source": [
        "lista = [0, 8, 1, 2, 3, 3, 4]"
      ],
      "metadata": {
        "id": "KyOvJQ4vHfHI"
      },
      "execution_count": null,
      "outputs": []
    },
    {
      "cell_type": "code",
      "source": [
        "# Imprime el valor en la posicón 1 de la lista\n",
        "print(lista[1])"
      ],
      "metadata": {
        "colab": {
          "base_uri": "https://localhost:8080/"
        },
        "id": "neQpCCfQgZBT",
        "outputId": "b9ebb628-d2ac-49f5-9e8b-422a0ff6e46b"
      },
      "execution_count": null,
      "outputs": [
        {
          "output_type": "stream",
          "name": "stdout",
          "text": [
            "8\n"
          ]
        }
      ]
    },
    {
      "cell_type": "code",
      "source": [
        "# len(lista): Retorna la longitud (número de elementos) de la lista\n",
        "print(f\"El tamaño de la lista es: {len(lista)}\\n\")\n",
        "\n",
        "# lista.append(elemento): Agrega un elemento al final de la lista.\n",
        "lista.append(5)\n",
        "print(\"Se agrega el número 5 a la lista\")\n",
        "print(lista, \"\\n\")\n",
        "\n",
        "# lista.insert(posicion, elemento): Inserta un elemento en una posición específica de la lista.\n",
        "print(\"Se inserta una 'x' en la posición 3\")\n",
        "lista.insert(3, \"x\")\n",
        "print(lista, \"\\n\")\n",
        "\n",
        "\n",
        "# lista.remove(elemento): Remueve la primera aparición del elemento de la lista.\n",
        "print(\"Se elimina la 'x' de la lista\")\n",
        "lista.remove(\"x\")\n",
        "print(lista, \"\\n\")\n",
        "\n",
        "#lista.pop(posicion): Remueve y retorna el elemento en la posición especificada.\n",
        "print(f\"Se obtine el número en la posición 6 ({lista.pop(6)}) y se elimina\")\n",
        "print(lista, \"\\n\")\n",
        "\n",
        "# elemento in lista: Verifica si un elemento está presente en la lista.\n",
        "print(f\"¿Está el 4 en la lista?\\nRespuesta: {4 in lista}\\n\")\n",
        "\n",
        "print(f\"¿Esta el 6 en la lista?\\nRespuesta: {6 in lista}\\n\")\n",
        "\n",
        "\n",
        "# lista.index(elemento): Retorna el índice de la primera aparición del elemento.\n",
        "print(f\"En la posición 0 esta el número: {lista.index(0)}\\n\")\n",
        "\n",
        "\n",
        "# lista.count(elemento): Cuenta cuántas veces aparece un elemento en la lista.\n",
        "print(f\"El número 3 esta {lista.count(3)} veces en la lista\\n\")\n",
        "\n",
        "# lista.sort(): Ordena los elementos de la lista en orden ascendente.\n",
        "lista.sort()\n",
        "print(f\"Lista ordenada: {lista}\\n\")\n",
        "\n",
        "# lista.reverse(): Invierte el orden de los elementos en la lista.\n",
        "lista.reverse()\n",
        "print(f\"Lista en orden inverso: {lista}\")"
      ],
      "metadata": {
        "colab": {
          "base_uri": "https://localhost:8080/",
          "height": 487
        },
        "id": "BeGGCb8-HWXZ",
        "outputId": "330c0052-44b0-4693-ae68-900d5b131bda"
      },
      "execution_count": null,
      "outputs": [
        {
          "output_type": "stream",
          "name": "stdout",
          "text": [
            "El tamaño de la lista es: 7\n",
            "\n",
            "Se agrega el número 5 a la lista\n",
            "[0, 8, 1, 2, 3, 3, 4, 5] \n",
            "\n",
            "Se inserta una 'x' en la posición 3\n",
            "[0, 8, 1, 'x', 2, 3, 3, 4, 5] \n",
            "\n",
            "Se elimina la 'x' de la lista\n",
            "[0, 8, 1, 2, 3, 3, 4, 5] \n",
            "\n",
            "Se obtine el número en la posición 6 (4) y se elimina\n",
            "[0, 8, 1, 2, 3, 3, 5] \n",
            "\n",
            "¿Está el 4 en la lista?\n",
            "Respuesta: False\n",
            "\n",
            "¿Esta el 6 en la lista?\n",
            "Respuesta: False\n",
            "\n",
            "En la posición 0 esta el número: 0\n",
            "\n",
            "El número 3 esta 2 veces en la lista\n",
            "\n",
            "Lista ordenada: [0, 1, 2, 3, 3, 5, 8]\n",
            "\n"
          ]
        },
        {
          "output_type": "execute_result",
          "data": {
            "text/plain": [
              "'Lista en orden inverso: [8, 5, 3, 3, 2, 1, 0]'"
            ],
            "application/vnd.google.colaboratory.intrinsic+json": {
              "type": "string"
            }
          },
          "metadata": {},
          "execution_count": 25
        }
      ]
    },
    {
      "cell_type": "code",
      "source": [
        "# Nueva lista2 con los valores de lista + 1\n",
        "lista2 = []\n",
        "for elemento in lista:\n",
        "    lista2.append(elemento + 1)\n",
        "\n",
        "print(lista2)\n"
      ],
      "metadata": {
        "colab": {
          "base_uri": "https://localhost:8080/"
        },
        "id": "q_Un2795YzXM",
        "outputId": "5c1d29c6-732f-48ab-f214-44e3c583087e"
      },
      "execution_count": null,
      "outputs": [
        {
          "output_type": "stream",
          "name": "stdout",
          "text": [
            "[9, 6, 4, 4, 3, 2, 1]\n"
          ]
        }
      ]
    },
    {
      "cell_type": "code",
      "source": [
        "# La lista3 tiene en la posción i la suma de los valores de lista y lista2 en la posición i\n",
        "\n",
        "lista3 = []\n",
        "for i in range(len(lista)):\n",
        "    suma = lista[i] + lista2[i]\n",
        "    lista3.append(suma)\n",
        "\n",
        "print(lista3)\n"
      ],
      "metadata": {
        "colab": {
          "base_uri": "https://localhost:8080/"
        },
        "id": "8SbqENfvaVIZ",
        "outputId": "159b67a6-d814-42e6-846a-3804e98b14b5"
      },
      "execution_count": null,
      "outputs": [
        {
          "output_type": "stream",
          "name": "stdout",
          "text": [
            "[17, 11, 7, 7, 5, 3, 1]\n"
          ]
        }
      ]
    }
  ]
}